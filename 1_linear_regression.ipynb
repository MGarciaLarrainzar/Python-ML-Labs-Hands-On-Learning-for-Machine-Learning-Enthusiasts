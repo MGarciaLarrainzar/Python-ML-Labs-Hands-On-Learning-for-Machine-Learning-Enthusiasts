{
 "cells": [
  {
   "cell_type": "markdown",
   "source": [
    "# Linear regression\n",
    "\n",
    "This exercise uses the diabetes dataset, a set of features that can be used to predict the evolution of diabetes. \n",
    "We will use a linear regression model.\n",
    "\n",
    "## Dataset Characteristics\n",
    "\n",
    "* Number of Instances: 442\n",
    "* Number of Attributes: First 10 columns are numeric predictive values\n",
    "* Features Information:\n",
    "\n",
    "        age: age in years\n",
    "        sex: sex\n",
    "        bmi: body mass index\n",
    "        bp: average blood pressure\n",
    "        s1: tc, total serum cholesterol\n",
    "        s2: ldl, low-density lipoproteins\n",
    "        s3: hdl, high-density lipoproteins\n",
    "        s4: tch, total cholesterol / HDL\n",
    "        s5: ltg, possibly log of serum triglycerides level\n",
    "        s6. glu, blood sugar level\n",
    "\n",
    "    **Note**: Each of these 10 feature variables have been mean centered and scaled by the standard deviation times the square root of n_samples (i.e. the sum of squares of each column totals 1).\n",
    "\n",
    "* Target: Column 11 is a quantitative measure of disease progression one year after baseline\n",
    "\n",
    "## Dataset source\n",
    "https://www4.stat.ncsu.edu/~boos/var.select/diabetes.html \n",
    "\n",
    "## Guided steps\n",
    "### 1. Load the dataset\n",
    "\n",
    "Load the dataset as pandas dataframes."
   ],
   "metadata": {
    "collapsed": false
   },
   "id": "3891b9dd0a0dbd75"
  },
  {
   "cell_type": "code",
   "execution_count": 12,
   "id": "3a7559f17fa38e15",
   "metadata": {
    "collapsed": false,
    "ExecuteTime": {
     "end_time": "2024-02-06T15:39:35.325340900Z",
     "start_time": "2024-02-06T15:39:35.038626400Z"
    }
   },
   "outputs": [],
   "source": [
    "import pandas as pd\n",
    "from sklearn.datasets import load_diabetes"
   ]
  },
  {
   "cell_type": "code",
   "execution_count": 34,
   "outputs": [
    {
     "name": "stdout",
     "output_type": "stream",
     "text": [
      "        age       sex       bmi        bp        s1        s2        s3  \\\n",
      "0  0.038076  0.050680  0.061696  0.021872 -0.044223 -0.034821 -0.043401   \n",
      "1 -0.001882 -0.044642 -0.051474 -0.026328 -0.008449 -0.019163  0.074412   \n",
      "2  0.085299  0.050680  0.044451 -0.005670 -0.045599 -0.034194 -0.032356   \n",
      "3 -0.089063 -0.044642 -0.011595 -0.036656  0.012191  0.024991 -0.036038   \n",
      "4  0.005383 -0.044642 -0.036385  0.021872  0.003935  0.015596  0.008142   \n",
      "\n",
      "         s4        s5        s6  \n",
      "0 -0.002592  0.019907 -0.017646  \n",
      "1 -0.039493 -0.068332 -0.092204  \n",
      "2 -0.002592  0.002861 -0.025930  \n",
      "3  0.034309  0.022688 -0.009362  \n",
      "4 -0.002592 -0.031988 -0.046641  \n",
      "0    151.0\n",
      "1     75.0\n",
      "2    141.0\n",
      "3    206.0\n",
      "4    135.0\n",
      "Name: target, dtype: float64\n"
     ]
    }
   ],
   "source": [
    "X, y = load_diabetes(as_frame=True, return_X_y=True)\n",
    "print(X.head())\n",
    "print(y.head())"
   ],
   "metadata": {
    "collapsed": false,
    "ExecuteTime": {
     "end_time": "2024-02-06T15:45:57.188546700Z",
     "start_time": "2024-02-06T15:45:57.148108900Z"
    }
   },
   "id": "7501556ef927c85c"
  },
  {
   "cell_type": "markdown",
   "source": [
    "### Split into training and test sets\n",
    "\n",
    "For now, let's use only one feature: bmi. Create a new dataframe with only this feature, and split it into training (80%) and test (20%) sets.\n",
    "\n",
    "**Note**: to split the data, you can use the function `train_test_split` from `sklearn.model_selection`. What advantage does this function have over simply slicing the dataframe?"
   ],
   "metadata": {
    "collapsed": false
   },
   "id": "a94f3cf2bfe34234"
  },
  {
   "cell_type": "code",
   "outputs": [
    {
     "name": "stdout",
     "output_type": "stream",
     "text": [
      "X_train shape: (353, 1)\n",
      "X_test shape: (89, 1)\n",
      "y_train shape: (353,)\n",
      "y_test shape: (89,)\n"
     ]
    }
   ],
   "source": [
    "# Code here\n",
    "from sklearn.model_selection import train_test_split\n",
    "\n",
    "bmi_feature = X['bmi'].values.reshape(-1, 1)\n",
    "X_train, X_test, y_train, y_test = train_test_split(bmi_feature, y, train_size=0.8)\n",
    "print(\"X_train shape:\", X_train.shape)\n",
    "print(\"X_test shape:\", X_test.shape)\n",
    "print(\"y_train shape:\", y_train.shape)\n",
    "print(\"y_test shape:\", y_test.shape)"
   ],
   "metadata": {
    "collapsed": false,
    "ExecuteTime": {
     "end_time": "2024-02-06T15:52:51.513687200Z",
     "start_time": "2024-02-06T15:52:51.509062800Z"
    }
   },
   "id": "7ad88292e5a920fd",
   "execution_count": 53
  },
  {
   "cell_type": "markdown",
   "source": [
    "### Load and train the model\n",
    "\n",
    "Load the linear regression model from `sklearn.linear_model` and train it with the training data."
   ],
   "metadata": {
    "collapsed": false
   },
   "id": "ccca1ddf6a7e5439"
  },
  {
   "cell_type": "code",
   "outputs": [
    {
     "data": {
      "text/plain": "LinearRegression()",
      "text/html": "<style>#sk-container-id-6 {color: black;}#sk-container-id-6 pre{padding: 0;}#sk-container-id-6 div.sk-toggleable {background-color: white;}#sk-container-id-6 label.sk-toggleable__label {cursor: pointer;display: block;width: 100%;margin-bottom: 0;padding: 0.3em;box-sizing: border-box;text-align: center;}#sk-container-id-6 label.sk-toggleable__label-arrow:before {content: \"▸\";float: left;margin-right: 0.25em;color: #696969;}#sk-container-id-6 label.sk-toggleable__label-arrow:hover:before {color: black;}#sk-container-id-6 div.sk-estimator:hover label.sk-toggleable__label-arrow:before {color: black;}#sk-container-id-6 div.sk-toggleable__content {max-height: 0;max-width: 0;overflow: hidden;text-align: left;background-color: #f0f8ff;}#sk-container-id-6 div.sk-toggleable__content pre {margin: 0.2em;color: black;border-radius: 0.25em;background-color: #f0f8ff;}#sk-container-id-6 input.sk-toggleable__control:checked~div.sk-toggleable__content {max-height: 200px;max-width: 100%;overflow: auto;}#sk-container-id-6 input.sk-toggleable__control:checked~label.sk-toggleable__label-arrow:before {content: \"▾\";}#sk-container-id-6 div.sk-estimator input.sk-toggleable__control:checked~label.sk-toggleable__label {background-color: #d4ebff;}#sk-container-id-6 div.sk-label input.sk-toggleable__control:checked~label.sk-toggleable__label {background-color: #d4ebff;}#sk-container-id-6 input.sk-hidden--visually {border: 0;clip: rect(1px 1px 1px 1px);clip: rect(1px, 1px, 1px, 1px);height: 1px;margin: -1px;overflow: hidden;padding: 0;position: absolute;width: 1px;}#sk-container-id-6 div.sk-estimator {font-family: monospace;background-color: #f0f8ff;border: 1px dotted black;border-radius: 0.25em;box-sizing: border-box;margin-bottom: 0.5em;}#sk-container-id-6 div.sk-estimator:hover {background-color: #d4ebff;}#sk-container-id-6 div.sk-parallel-item::after {content: \"\";width: 100%;border-bottom: 1px solid gray;flex-grow: 1;}#sk-container-id-6 div.sk-label:hover label.sk-toggleable__label {background-color: #d4ebff;}#sk-container-id-6 div.sk-serial::before {content: \"\";position: absolute;border-left: 1px solid gray;box-sizing: border-box;top: 0;bottom: 0;left: 50%;z-index: 0;}#sk-container-id-6 div.sk-serial {display: flex;flex-direction: column;align-items: center;background-color: white;padding-right: 0.2em;padding-left: 0.2em;position: relative;}#sk-container-id-6 div.sk-item {position: relative;z-index: 1;}#sk-container-id-6 div.sk-parallel {display: flex;align-items: stretch;justify-content: center;background-color: white;position: relative;}#sk-container-id-6 div.sk-item::before, #sk-container-id-6 div.sk-parallel-item::before {content: \"\";position: absolute;border-left: 1px solid gray;box-sizing: border-box;top: 0;bottom: 0;left: 50%;z-index: -1;}#sk-container-id-6 div.sk-parallel-item {display: flex;flex-direction: column;z-index: 1;position: relative;background-color: white;}#sk-container-id-6 div.sk-parallel-item:first-child::after {align-self: flex-end;width: 50%;}#sk-container-id-6 div.sk-parallel-item:last-child::after {align-self: flex-start;width: 50%;}#sk-container-id-6 div.sk-parallel-item:only-child::after {width: 0;}#sk-container-id-6 div.sk-dashed-wrapped {border: 1px dashed gray;margin: 0 0.4em 0.5em 0.4em;box-sizing: border-box;padding-bottom: 0.4em;background-color: white;}#sk-container-id-6 div.sk-label label {font-family: monospace;font-weight: bold;display: inline-block;line-height: 1.2em;}#sk-container-id-6 div.sk-label-container {text-align: center;}#sk-container-id-6 div.sk-container {/* jupyter's `normalize.less` sets `[hidden] { display: none; }` but bootstrap.min.css set `[hidden] { display: none !important; }` so we also need the `!important` here to be able to override the default hidden behavior on the sphinx rendered scikit-learn.org. See: https://github.com/scikit-learn/scikit-learn/issues/21755 */display: inline-block !important;position: relative;}#sk-container-id-6 div.sk-text-repr-fallback {display: none;}</style><div id=\"sk-container-id-6\" class=\"sk-top-container\"><div class=\"sk-text-repr-fallback\"><pre>LinearRegression()</pre><b>In a Jupyter environment, please rerun this cell to show the HTML representation or trust the notebook. <br />On GitHub, the HTML representation is unable to render, please try loading this page with nbviewer.org.</b></div><div class=\"sk-container\" hidden><div class=\"sk-item\"><div class=\"sk-estimator sk-toggleable\"><input class=\"sk-toggleable__control sk-hidden--visually\" id=\"sk-estimator-id-6\" type=\"checkbox\" checked><label for=\"sk-estimator-id-6\" class=\"sk-toggleable__label sk-toggleable__label-arrow\">LinearRegression</label><div class=\"sk-toggleable__content\"><pre>LinearRegression()</pre></div></div></div></div></div>"
     },
     "execution_count": 54,
     "metadata": {},
     "output_type": "execute_result"
    }
   ],
   "source": [
    "# Code here\n",
    "from sklearn.linear_model import LinearRegression\n",
    "\n",
    "lr = LinearRegression()\n",
    "lr.fit(X_train, y_train)"
   ],
   "metadata": {
    "collapsed": false,
    "ExecuteTime": {
     "end_time": "2024-02-06T15:52:53.517287500Z",
     "start_time": "2024-02-06T15:52:53.493237700Z"
    }
   },
   "id": "635385f4024e323d",
   "execution_count": 54
  },
  {
   "cell_type": "markdown",
   "source": [
    "### Evaluate the model\n",
    "\n",
    "Evaluate the model using the test data. You can use the functions `mean_squared_error` and `r2_score` (the coefficient of determination) from `sklearn.metrics`."
   ],
   "metadata": {
    "collapsed": false
   },
   "id": "2f72cb3500102738"
  },
  {
   "cell_type": "code",
   "outputs": [
    {
     "name": "stdout",
     "output_type": "stream",
     "text": [
      "Mean Squared Error (MSE): 3671.8153433490215\n",
      "R-squared (R²) Score: 0.4572649529337526\n"
     ]
    }
   ],
   "source": [
    "# Code here\n",
    "from sklearn.metrics import mean_squared_error, r2_score\n",
    "\n",
    "y_pred = lr.predict(X_test)\n",
    "mse = mean_squared_error(y_test, y_pred)\n",
    "r2 = r2_score(y_test, y_pred)\n",
    "print(\"Mean Squared Error (MSE):\", mse)\n",
    "print(\"R-squared (R²) Score:\", r2)"
   ],
   "metadata": {
    "collapsed": false,
    "ExecuteTime": {
     "end_time": "2024-02-06T15:52:55.700636300Z",
     "start_time": "2024-02-06T15:52:55.682729600Z"
    }
   },
   "id": "a034d6fc5a1cccbb",
   "execution_count": 55
  },
  {
   "cell_type": "markdown",
   "source": [
    "### Plot the results with matplotlib\n",
    "\n",
    "Plot the test data as a scatter plot, and the predictions as a line. "
   ],
   "metadata": {
    "collapsed": false
   },
   "id": "d57640f61be170c7"
  },
  {
   "cell_type": "code",
   "outputs": [
    {
     "data": {
      "text/plain": "<Figure size 640x480 with 1 Axes>",
      "image/png": "[encoded data removed]"
     },
     "metadata": {},
     "output_type": "display_data"
    }
   ],
   "source": [
    "# Code here\n",
    "import matplotlib.pyplot as plt\n",
    "\n",
    "plt.scatter(X_test, y_test)\n",
    "plt.xlabel(\"x-axis\")\n",
    "plt.ylabel(\"y-axis\")\n",
    "plt.title(\"Diabetes scatter plot\")\n",
    "plt.show()"
   ],
   "metadata": {
    "collapsed": true,
    "ExecuteTime": {
     "end_time": "2024-02-06T15:56:40.872422400Z",
     "start_time": "2024-02-06T15:56:40.745795400Z"
    }
   },
   "id": "initial_id",
   "execution_count": 57
  },
  {
   "cell_type": "markdown",
   "source": [
    "### 2. Multivariate linear regression\n",
    "\n",
    "Check the values from the previous step of model evaluation. Is the model good? What do these metrics mean? Do the model scores change much if you run the code again (remember that the training and test sets are randomly selected, so it makes sense for the scores to change a bit)?\n",
    "\n",
    "In this section we will use all the features from the dataset:\n",
    "\n",
    "* Split the data (all the features) into training (80%) and test (20%) sets again\n",
    "* Train the model with the training data.\n",
    "* Evaluate the model with the test data.\n",
    "\n",
    "What do you observe? Is the model performance better? Do you think that all the features are useful for the prediction? Why?"
   ],
   "metadata": {
    "collapsed": false
   },
   "id": "31191f7d7ff3e06c"
  },
  {
   "cell_type": "code",
   "outputs": [
    {
     "name": "stdout",
     "output_type": "stream",
     "text": [
      "Mean Squared Error (MSE): 2560.561206319704\n",
      "R-squared (R²) Score: 0.5979857766013128\n"
     ]
    }
   ],
   "source": [
    "# Code here\n",
    "\n",
    "X_train, X_test, y_train, y_test = train_test_split(X, y, train_size=0.8)\n",
    "lr = LinearRegression()\n",
    "lr.fit(X_train, y_train)\n",
    "\n",
    "y_pred = lr.predict(X_test)\n",
    "mse = mean_squared_error(y_test, y_pred)\n",
    "r2 = r2_score(y_test, y_pred)\n",
    "\n",
    "print(\"Mean Squared Error (MSE):\", mse)\n",
    "print(\"R-squared (R²) Score:\", r2)"
   ],
   "metadata": {
    "collapsed": false,
    "ExecuteTime": {
     "end_time": "2024-02-06T16:12:57.475261800Z",
     "start_time": "2024-02-06T16:12:57.461451600Z"
    }
   },
   "id": "2eb311c57807dab",
   "execution_count": 101
  }
 ],
 "metadata": {
  "kernelspec": {
   "display_name": "Python 3",
   "language": "python",
   "name": "python3"
  },
  "language_info": {
   "codemirror_mode": {
    "name": "ipython",
    "version": 2
   },
   "file_extension": ".py",
   "mimetype": "text/x-python",
   "name": "python",
   "nbconvert_exporter": "python",
   "pygments_lexer": "ipython2",
   "version": "2.7.6"
  }
 },
 "nbformat": 4,
 "nbformat_minor": 5
}
