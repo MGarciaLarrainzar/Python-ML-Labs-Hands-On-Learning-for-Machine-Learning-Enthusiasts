{
 "nbformat": 4,
 "nbformat_minor": 0,
 "metadata": {
  "colab": {
   "provenance": [
    {
     "file_id": "1YTW3pZufEEasUILK1NsubuLktkWpNXIC",
     "timestamp": 1705675177965
    }
   ]
  },
  "kernelspec": {
   "name": "python3",
   "language": "python",
   "display_name": "Python 3 (ipykernel)"
  },
  "language_info": {
   "name": "python"
  }
 },
 "cells": [
  {
   "cell_type": "code",
   "execution_count": 1,
   "metadata": {
    "id": "fdkQoRybTh1H",
    "ExecuteTime": {
     "end_time": "2024-01-26T14:09:37.250515500Z",
     "start_time": "2024-01-26T14:09:36.110857200Z"
    }
   },
   "outputs": [],
   "source": [
    "import pandas as pd\n",
    "from sklearn.tree import DecisionTreeClassifier # Import Decision Tree Classifier\n",
    "from sklearn.model_selection import train_test_split # Import train_test_split function\n",
    "from sklearn import metrics #Import scikit-learn metrics module for accuracy calculation\n",
    "import numpy as np\n",
    "import matplotlib.pyplot as plt"
   ]
  },
  {
   "cell_type": "code",
   "source": [
    "data = pd.read_csv(\"Sample_Files/customers_churn (3).csv\")"
   ],
   "metadata": {
    "id": "eLTYOJABXBRW",
    "ExecuteTime": {
     "end_time": "2024-01-26T14:09:38.973446400Z",
     "start_time": "2024-01-26T14:09:38.941647400Z"
    }
   },
   "execution_count": 2,
   "outputs": []
  },
  {
   "cell_type": "code",
   "source": [
    "data.dtypes"
   ],
   "metadata": {
    "id": "w4Br2L4ST4FD",
    "ExecuteTime": {
     "end_time": "2024-01-26T14:09:40.972156Z",
     "start_time": "2024-01-26T14:09:40.941052900Z"
    }
   },
   "execution_count": 3,
   "outputs": [
    {
     "data": {
      "text/plain": "State              object\nAccount_Length      int64\nArea_Code           int64\nPhone              object\nIntl_Plan          object\nVMail_Plan         object\nVMail_Message       int64\nDay_Mins          float64\nDay_Calls           int64\nDay_Charge        float64\nEve_Mins          float64\nEve_Calls           int64\nEve_Charge        float64\nNight_Mins        float64\nNight_Calls         int64\nNight_Charge      float64\nIntl_Mins         float64\ntotal_Mins        float64\nIntl_Calls          int64\nIntl_Charge       float64\nTotal_Charge      float64\nCustServ_Calls      int64\nChurn               int64\ndtype: object"
     },
     "execution_count": 3,
     "metadata": {},
     "output_type": "execute_result"
    }
   ]
  },
  {
   "cell_type": "code",
   "source": [
    "# Remove the State and Phone categoricals, separate y from X\n",
    "X = data.drop(columns=[\"Churn\", \"State\", \"Phone\"])\n",
    "y = data[\"Churn\"]"
   ],
   "metadata": {
    "id": "INkDrnItuHcF",
    "ExecuteTime": {
     "end_time": "2024-01-26T14:09:42.196991700Z",
     "start_time": "2024-01-26T14:09:42.173483600Z"
    }
   },
   "execution_count": 4,
   "outputs": []
  },
  {
   "cell_type": "code",
   "source": [
    "# Convert \"yes\" to 1 and \"no\" to 0 in these features\n",
    "X[\"VMail_Plan\"] = np.where(X[\"VMail_Plan\"]==\"yes\", 1, 0).astype(int)\n",
    "X[\"Intl_Plan\"] = np.where(X[\"Intl_Plan\"]==\"yes\", 1, 0).astype(int)"
   ],
   "metadata": {
    "id": "LYjtn41S5B2v",
    "ExecuteTime": {
     "end_time": "2024-01-26T14:09:43.485823300Z",
     "start_time": "2024-01-26T14:09:43.481809800Z"
    }
   },
   "execution_count": 5,
   "outputs": []
  },
  {
   "cell_type": "code",
   "source": [
    "y.value_counts()"
   ],
   "metadata": {
    "id": "lXunZl3kT5co",
    "ExecuteTime": {
     "end_time": "2024-01-26T14:09:44.220981500Z",
     "start_time": "2024-01-26T14:09:44.173120500Z"
    }
   },
   "execution_count": 6,
   "outputs": [
    {
     "data": {
      "text/plain": "Churn\n0    2850\n1     483\nName: count, dtype: int64"
     },
     "execution_count": 6,
     "metadata": {},
     "output_type": "execute_result"
    }
   ]
  },
  {
   "cell_type": "markdown",
   "source": [
    "As you can see, this is an unbalanced dataset with \"0\" (negative) rate of 85%.\n",
    "This means that whatever we get from the learning algorithm, if it is less than 85% then it is worthless, because we could get that simply by predicting \"0\"."
   ],
   "metadata": {
    "id": "NdQS__dw6_Af"
   }
  },
  {
   "cell_type": "code",
   "source": [
    "# Split dataset into training set and test set with 70%-30%\n",
    "# Your code here\n",
    "X_train, X_test, y_train, y_test = train_test_split(X, y, test_size=0.3)"
   ],
   "metadata": {
    "id": "muTUpijnUKJf",
    "ExecuteTime": {
     "end_time": "2024-01-26T14:09:45.853574500Z",
     "start_time": "2024-01-26T14:09:45.822169600Z"
    }
   },
   "execution_count": 7,
   "outputs": []
  },
  {
   "cell_type": "code",
   "source": [
    "# Create Decision Tree classifier object - no restrictions for now\n",
    "clf = DecisionTreeClassifier(min_samples_split=2, max_depth=None)\n",
    "\n",
    "# Your code below - fit the model\n",
    "#...\n",
    "tree = clf.fit(X_train, y_train) # Assigning the result to a variable tree will allow us to view the tree"
   ],
   "metadata": {
    "id": "b3rS8ueGUN4j",
    "ExecuteTime": {
     "end_time": "2024-01-26T14:09:46.628242900Z",
     "start_time": "2024-01-26T14:09:46.534314300Z"
    }
   },
   "execution_count": 8,
   "outputs": []
  },
  {
   "cell_type": "code",
   "source": [
    "# Print the test accuracy and the train accuracy\n",
    "# your code here\n",
    "# Assuming you have already split your dataset into X_test and y_test\n",
    "\n",
    "train_accuracy = clf.score(X_train, y_train)\n",
    "test_accuracy = clf.score(X_test, y_test)\n",
    "\n",
    "print(\"Train Accuracy:\", train_accuracy)\n",
    "print(\"Test Accuracy:\", test_accuracy)"
   ],
   "metadata": {
    "id": "9tw1dVFBU0pE",
    "ExecuteTime": {
     "end_time": "2024-01-26T14:09:47.836914Z",
     "start_time": "2024-01-26T14:09:47.820790Z"
    }
   },
   "execution_count": 9,
   "outputs": [
    {
     "name": "stdout",
     "output_type": "stream",
     "text": [
      "Train Accuracy: 1.0\n",
      "Test Accuracy: 0.946\n"
     ]
    }
   ]
  },
  {
   "cell_type": "markdown",
   "source": [
    "There is probably a bit of overfitting.  Let us view the tree."
   ],
   "metadata": {
    "id": "ELTVdQKijAFI"
   }
  },
  {
   "cell_type": "code",
   "source": [
    "from sklearn.tree import export_graphviz\n",
    "import pydotplus\n",
    "# This will create a .dot file, which is a standard for representing trees.\n",
    "# Feel free to open it and view it (it is textual)\n",
    "export_graphviz(tree, out_file=\"tree.dot\",\n",
    "                filled=True, rounded=True,\n",
    "                special_characters=True,\n",
    "                feature_names = X_train.columns,\n",
    "                class_names=['0','1'])\n",
    "pydotplus.graph_from_dot_file(\"tree.dot\").write_png('tree.png')"
   ],
   "metadata": {
    "id": "xau2IDsFVBe7",
    "ExecuteTime": {
     "end_time": "2024-01-26T14:09:54.767648100Z",
     "start_time": "2024-01-26T14:09:51.744142500Z"
    }
   },
   "execution_count": 10,
   "outputs": [
    {
     "data": {
      "text/plain": "True"
     },
     "execution_count": 10,
     "metadata": {},
     "output_type": "execute_result"
    }
   ]
  },
  {
   "cell_type": "markdown",
   "source": [
    "### Inspecting the tree visually\n",
    "Open the file tree.png that was created, and view it with your favorite viewer.  The resulting tree is extremely complex, and you may need a zoom-in tool to see what's going on.  The first thing to note is that the algorithm uses the \"gini\" index to decide whether to split a node.  Each node in the tree is annotated with the Gini index. This is because by default, the algorithm uses the \"gini\" criterion.  If you look at the documentation, you shall see that this criterion can be changed in the arguments of DecisionTreeClassifier, using the keyword criterion=\"entropy\" for Information Gain as we learned in class.  \n",
    "Additionally, each node is also annotated with the number of training examples falling in the region defined by the node, and also with a count of the number of \"0\" and number of \"1\"'s in the training set in that region (\"value\" in the picture), which can be used for soft prediction. Finally you will see \"class\" which is the hard prediction.\n",
    " If you inspect the leaves, you will see that they are all pure, which happens because we enforced no limits on the output tree."
   ],
   "metadata": {
    "id": "V7GmYBpI3wBf"
   }
  },
  {
   "cell_type": "markdown",
   "source": [
    "To fight the overfitting, we may want to limit the tree in some way.  max_depth is a typical way.  Let's try it."
   ],
   "metadata": {
    "id": "KXI0pGO842va"
   }
  },
  {
   "cell_type": "code",
   "source": [
    "# Create Decision Tree classifier object with depth at most 2\n",
    "clf = DecisionTreeClassifier(max_depth = 2)\n",
    "# Your code below\n",
    "tree = clf.fit(X_train, y_train)"
   ],
   "metadata": {
    "id": "sZBKyWLRhg2D",
    "ExecuteTime": {
     "end_time": "2024-01-26T14:10:36.468777100Z",
     "start_time": "2024-01-26T14:10:36.449298200Z"
    }
   },
   "execution_count": 11,
   "outputs": []
  },
  {
   "cell_type": "code",
   "source": [
    "export_graphviz(tree, out_file=\"tree2.dot\",\n",
    "                filled=True, rounded=True,\n",
    "                special_characters=True,\n",
    "                class_names=['0','1'],\n",
    "                feature_names = X_train.columns)\n",
    "graph = pydotplus.graph_from_dot_file(\"tree2.dot\").write_png('tree2.png')\n",
    "# View the resulting tree2.png, compare to tree.png"
   ],
   "metadata": {
    "id": "bWnLyXX3iUcA",
    "ExecuteTime": {
     "end_time": "2024-01-26T14:10:38.025998800Z",
     "start_time": "2024-01-26T14:10:37.884625200Z"
    }
   },
   "execution_count": 12,
   "outputs": []
  },
  {
   "cell_type": "markdown",
   "source": [
    "Let's look at the training and validation error."
   ],
   "metadata": {
    "id": "N-5vaEIV5kYG"
   }
  },
  {
   "cell_type": "code",
   "source": [
    "# Your code here for printing training and validation error\n",
    "from sklearn.metrics import accuracy_score\n",
    "\n",
    "y_train_pred = tree.predict(X_train)\n",
    "y_test_pred = tree.predict(X_test)\n",
    "\n",
    "train_error = 1 - accuracy_score(y_train, y_train_pred)\n",
    "val_error = 1 - accuracy_score(y_test, y_test_pred)\n",
    "\n",
    "print(\"Training Error:\", train_error)\n",
    "print(\"Validation Error:\", val_error)"
   ],
   "metadata": {
    "id": "qZF-ikHB5R5J",
    "ExecuteTime": {
     "end_time": "2024-01-26T14:10:40.263732800Z",
     "start_time": "2024-01-26T14:10:40.255325700Z"
    }
   },
   "execution_count": 13,
   "outputs": [
    {
     "name": "stdout",
     "output_type": "stream",
     "text": [
      "Training Error: 0.07929704243463354\n",
      "Validation Error: 0.09999999999999998\n"
     ]
    }
   ]
  },
  {
   "cell_type": "markdown",
   "source": [
    "### The sweet spot plot: Visualizing overfitting\n",
    "In this exercise we will go back to the binary classification problem, and we shall vary the max-depth parameter from 1 to 20. For each value of max-depth, we will run k-fold cross validation on the decision tree classifier, in order to get a low-variance estimate of both the training and of the validation error.  Finally, we will plot both the training and validation errors and see what we get.\n",
    "\n",
    "We will use sklean's model_selection.KFold for performing the K-fold management.  There are other options, for example model_selection.cross_val_score, but the \"KFold\" option gives us low-level control over the process, which we need for this case."
   ],
   "metadata": {
    "id": "ELgpcFpnNgu1"
   }
  },
  {
   "cell_type": "code",
   "source": [
    "from sklearn.model_selection import KFold\n",
    "max_depth_vals = range(1,21)\n",
    "train_accuracies = []\n",
    "val_accuracies = []\n",
    "n_splits = 5\n",
    "for max_depth in max_depth_vals:\n",
    "  kf = KFold(n_splits=n_splits, shuffle=True)\n",
    "  av_train_accuracy = 0.0\n",
    "  av_val_accuracy = 0.0\n",
    "  for i, (train_index, val_index) in enumerate(kf.split(X)):\n",
    "    # train_index is series of indices of training set\n",
    "    # test_index is series of indices of the test set\n",
    "    # you can use them to extract a training and val_index for the current fold\n",
    "    # your code here to extract a train, val dataframes\n",
    "    X_train, X_val = X.iloc[train_index], X.iloc[val_index]\n",
    "    y_train, y_val = y.iloc[train_index], y.iloc[val_index]\n",
    "    clf = DecisionTreeClassifier(max_depth = max_depth)\n",
    "    # Your code here... fit clf on training set\n",
    "    # Then compute train_accuracy and test_accuracy\n",
    "    clf.fit(X_train, y_train)\n",
    "    train_accuracy = clf.score(X_train, y_train)\n",
    "    val_accuracy = clf.score(X_val, y_val)\n",
    "    av_train_accuracy += train_accuracy / n_splits\n",
    "    av_val_accuracy  += val_accuracy / n_splits\n",
    "  train_accuracies.append(av_train_accuracy)\n",
    "  val_accuracies.append(av_val_accuracy)\n",
    "plt.plot(max_depth_vals, train_accuracies, 'r') # train curve in red\n",
    "plt.plot(max_depth_vals, val_accuracies, 'b')#test curve in blue"
   ],
   "metadata": {
    "id": "YGvEXy38Nihu",
    "ExecuteTime": {
     "end_time": "2024-01-26T14:10:49.030225800Z",
     "start_time": "2024-01-26T14:10:43.268847800Z"
    }
   },
   "execution_count": 14,
   "outputs": [
    {
     "data": {
      "text/plain": "[<matplotlib.lines.Line2D at 0x24d27e920d0>]"
     },
     "execution_count": 14,
     "metadata": {},
     "output_type": "execute_result"
    },
    {
     "data": {
      "text/plain": "<Figure size 640x480 with 1 Axes>",
      "image/png": "[encoded data removed]"
     },
     "metadata": {},
     "output_type": "display_data"
    }
   ]
  },
  {
   "cell_type": "markdown",
   "source": [
    "## Inspect"
   ],
   "metadata": {
    "id": "Nph45AP99xVf"
   }
  },
  {
   "cell_type": "code",
   "source": [],
   "metadata": {
    "id": "eICJuxqP9t3R",
    "ExecuteTime": {
     "end_time": "2024-01-26T13:45:08.633135400Z",
     "start_time": "2024-01-26T13:45:08.633135400Z"
    }
   },
   "execution_count": null,
   "outputs": []
  }
 ]
}
