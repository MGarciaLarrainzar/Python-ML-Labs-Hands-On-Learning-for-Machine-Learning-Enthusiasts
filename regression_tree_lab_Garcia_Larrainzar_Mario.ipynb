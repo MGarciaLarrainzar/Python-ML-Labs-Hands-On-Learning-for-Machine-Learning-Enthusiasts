{
 "nbformat": 4,
 "nbformat_minor": 0,
 "metadata": {
  "colab": {
   "provenance": [
    {
     "file_id": "1YTW3pZufEEasUILK1NsubuLktkWpNXIC",
     "timestamp": 1705672525777
    }
   ]
  },
  "kernelspec": {
   "name": "python3",
   "language": "python",
   "display_name": "Python 3 (ipykernel)"
  },
  "language_info": {
   "name": "python"
  }
 },
 "cells": [
  {
   "cell_type": "code",
   "source": [
    "import pandas as pd\n",
    "import numpy as np"
   ],
   "metadata": {
    "id": "It5YphbjVLE9",
    "executionInfo": {
     "status": "ok",
     "timestamp": 1705674576947,
     "user_tz": -60,
     "elapsed": 5,
     "user": {
      "displayName": "Nir Ailon",
      "userId": "05002408616066014900"
     }
    },
    "ExecuteTime": {
     "end_time": "2024-01-25T17:56:33.934414700Z",
     "start_time": "2024-01-25T17:56:33.334323700Z"
    }
   },
   "execution_count": 1,
   "outputs": []
  },
  {
   "cell_type": "code",
   "source": [
    "data = pd.read_excel(\"Sample_Files/houses_for_rent_madrid (1).xlsx\")"
   ],
   "metadata": {
    "id": "MZqS38ieBFDa",
    "executionInfo": {
     "status": "ok",
     "timestamp": 1705674577749,
     "user_tz": -60,
     "elapsed": 805,
     "user": {
      "displayName": "Nir Ailon",
      "userId": "05002408616066014900"
     }
    },
    "ExecuteTime": {
     "end_time": "2024-01-25T17:57:32.463685900Z",
     "start_time": "2024-01-25T17:57:31.791414700Z"
    }
   },
   "execution_count": 2,
   "outputs": []
  },
  {
   "cell_type": "code",
   "source": [
    "data.dtypes"
   ],
   "metadata": {
    "colab": {
     "base_uri": "https://localhost:8080/"
    },
    "id": "G26vfoZXBJXv",
    "executionInfo": {
     "status": "ok",
     "timestamp": 1705674577750,
     "user_tz": -60,
     "elapsed": 4,
     "user": {
      "displayName": "Nir Ailon",
      "userId": "05002408616066014900"
     }
    },
    "outputId": "1d73d1d2-0ec0-46a0-b4b9-323037f44259",
    "ExecuteTime": {
     "end_time": "2024-01-25T17:57:35.360592100Z",
     "start_time": "2024-01-25T17:57:35.350166900Z"
    }
   },
   "execution_count": 3,
   "outputs": [
    {
     "data": {
      "text/plain": "Id                int64\nDistrict         object\nAddress          object\nNumber           object\nArea             object\nRent              int64\nBedrooms        float64\nSq.Mt             int64\nFloor           float64\nOuter           float64\nElevator        float64\nPenthouse         int64\nCottage           int64\nDuplex            int64\nSemidetached      int64\ndtype: object"
     },
     "execution_count": 3,
     "metadata": {},
     "output_type": "execute_result"
    }
   ]
  },
  {
   "cell_type": "code",
   "source": [
    "# Data preparation: Remove Number, Address, Id, drop rows with missing values,\n",
    "# convert, get one-hot (dummy) encoding for the categoricals.\n",
    "# Split to 80%-20% train-test.\n",
    "from sklearn.model_selection import train_test_split\n",
    "data_prepared = data.drop(columns=[\"Number\", \"Address\", \"Id\"])\n",
    "data_prepared = data_prepared.dropna(axis=0)\n",
    "data_prepared[\"District\"] = data[\"District\"].astype(\"category\")\n",
    "data_prepared[\"Area\"] = data[\"Area\"].astype(\"category\")\n",
    "data_prepared = pd.get_dummies(data_prepared)\n",
    "data_train, data_test = train_test_split(data_prepared, train_size = 0.8)"
   ],
   "metadata": {
    "id": "wXEqOZtFCBXy",
    "executionInfo": {
     "status": "ok",
     "timestamp": 1705674601853,
     "user_tz": -60,
     "elapsed": 234,
     "user": {
      "displayName": "Nir Ailon",
      "userId": "05002408616066014900"
     }
    },
    "ExecuteTime": {
     "end_time": "2024-01-25T17:57:39.232572900Z",
     "start_time": "2024-01-25T17:57:38.436415Z"
    }
   },
   "execution_count": 4,
   "outputs": []
  },
  {
   "cell_type": "code",
   "source": [
    "# How many features do we have now?\n",
    "data_train.shape"
   ],
   "metadata": {
    "colab": {
     "base_uri": "https://localhost:8080/"
    },
    "id": "nBfABuafC9WR",
    "executionInfo": {
     "status": "ok",
     "timestamp": 1705674706013,
     "user_tz": -60,
     "elapsed": 220,
     "user": {
      "displayName": "Nir Ailon",
      "userId": "05002408616066014900"
     }
    },
    "outputId": "394c7585-1a22-4a8b-8243-f9cb22889a53",
    "ExecuteTime": {
     "end_time": "2024-01-25T17:57:41.673427200Z",
     "start_time": "2024-01-25T17:57:41.659326900Z"
    }
   },
   "execution_count": 5,
   "outputs": [
    {
     "data": {
      "text/plain": "(1452, 170)"
     },
     "execution_count": 5,
     "metadata": {},
     "output_type": "execute_result"
    }
   ]
  },
  {
   "cell_type": "code",
   "source": [
    "from sklearn.tree import DecisionTreeRegressor\n",
    "from sklearn.metrics import r2_score"
   ],
   "metadata": {
    "id": "Ory1qpUACS3p",
    "executionInfo": {
     "status": "ok",
     "timestamp": 1705674720908,
     "user_tz": -60,
     "elapsed": 221,
     "user": {
      "displayName": "Nir Ailon",
      "userId": "05002408616066014900"
     }
    },
    "ExecuteTime": {
     "end_time": "2024-01-25T17:57:44.028656600Z",
     "start_time": "2024-01-25T17:57:43.915176200Z"
    }
   },
   "execution_count": 6,
   "outputs": []
  },
  {
   "cell_type": "markdown",
   "source": [
    "## Your job\n",
    "Train a regressor for \"Rent\" using decision trees.  Start with no restriction on the tree growth, and then try to fiddle with the \"max_depth\" parameter\n",
    "(to control the depth of the tree) and the \"min_samples_split\", which prevents splitting nodes that have too little training data in them.  Use a real number, for example, 0.05 means that the algorithm won't split nodes with less than 0.05*n training samples, where n is the size of the training set.\n",
    "\n",
    "Either using a loop or manually, find the based choice of min_samples_split and max_depth on the test set (which is here used as a validation set only)."
   ],
   "metadata": {
    "id": "B08FpD26JLlw"
   }
  },
  {
   "cell_type": "code",
   "source": [
    "# Documentation for DecisionTreeRegressor:\n",
    "# https://scikit-learn.org/stable/modules/generated/sklearn.tree.DecisionTreeRegressor.html#sklearn.tree.DecisionTreeRegressor\n",
    "clf = DecisionTreeRegressor()"
   ],
   "metadata": {
    "id": "JtNbI_87CZZ6",
    "executionInfo": {
     "status": "ok",
     "timestamp": 1705675142337,
     "user_tz": -60,
     "elapsed": 337,
     "user": {
      "displayName": "Nir Ailon",
      "userId": "05002408616066014900"
     }
    },
    "ExecuteTime": {
     "end_time": "2024-01-25T17:57:50.633303300Z",
     "start_time": "2024-01-25T17:57:50.627319100Z"
    }
   },
   "execution_count": 7,
   "outputs": []
  },
  {
   "cell_type": "code",
   "source": [
    "from sklearn.metrics import mean_squared_error\n",
    "\n",
    "X_train = data_train.drop(columns=['Rent'])\n",
    "y_train = data_train['Rent']\n",
    "X_test = data_test.drop(columns=['Rent'])\n",
    "y_test = data_test['Rent']\n",
    "\n",
    "max_depth_values = range(1, 21)\n",
    "min_samples_split_values = [0.05, 0.1, 0.15, 0.2]\n",
    "\n",
    "best_model = None\n",
    "best_mse = float('inf')\n",
    "\n",
    "for max_depth in max_depth_values:\n",
    "    for min_samples_split in min_samples_split_values:\n",
    "        regressor = DecisionTreeRegressor(max_depth=max_depth, min_samples_split=min_samples_split)\n",
    "        regressor.fit(X_train, y_train)\n",
    "        y_pred = regressor.predict(X_test)\n",
    "        mse = mean_squared_error(y_test, y_pred)\n",
    "        if mse < best_mse:\n",
    "            best_mse = mse\n",
    "            best_model = regressor\n",
    "\n",
    "print(\"Best Parameters:\")\n",
    "print(\"max_depth:\", best_model.max_depth)\n",
    "print(\"min_samples_split:\", best_model.min_samples_split)\n",
    "print(\"MSE on Test Set:\", best_mse)"
   ],
   "metadata": {
    "id": "RQJXxOZeEBx_",
    "ExecuteTime": {
     "end_time": "2024-01-25T18:11:19.404217800Z",
     "start_time": "2024-01-25T18:11:18.561008400Z"
    }
   },
   "execution_count": 9,
   "outputs": [
    {
     "name": "stdout",
     "output_type": "stream",
     "text": [
      "Best Parameters:\n",
      "max_depth: 17\n",
      "min_samples_split: 0.05\n",
      "MSE on Test Set: 457798.4467931264\n"
     ]
    }
   ]
  }
 ]
}
